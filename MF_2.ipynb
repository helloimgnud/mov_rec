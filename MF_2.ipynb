{
 "cells": [
  {
   "cell_type": "code",
   "execution_count": 1,
   "id": "4168ccac-6cd1-47cb-9b91-9d6a074eb5c9",
   "metadata": {
    "tags": []
   },
   "outputs": [],
   "source": [
    "import numpy as np\n",
    "import torch\n",
    "from torch import nn, div, square, norm\n",
    "from torch.nn import functional as F\n",
    "import pandas as pd\n",
    "from sklearn.preprocessing import OrdinalEncoder, MinMaxScaler\n",
    "from sklearn.model_selection import train_test_split\n",
    "from torch.utils.data import Dataset, DataLoader\n",
    "import matplotlib.pyplot as plt\n",
    "import time"
   ]
  },
  {
   "cell_type": "code",
   "execution_count": 2,
   "id": "521a3858-103e-4220-b7de-013c45c1e871",
   "metadata": {
    "tags": []
   },
   "outputs": [
    {
     "data": {
      "text/plain": [
       "<torch._C.Generator at 0x7fade0c3c130>"
      ]
     },
     "execution_count": 2,
     "metadata": {},
     "output_type": "execute_result"
    }
   ],
   "source": [
    "seed = 42\n",
    "device = 'cuda' if torch.cuda.is_available() else 'cpu'\n",
    "torch.manual_seed(seed)"
   ]
  },
  {
   "cell_type": "code",
   "execution_count": 3,
   "id": "9b13f60e-852b-427a-a7ab-2799bb0c2bf4",
   "metadata": {
    "tags": []
   },
   "outputs": [
    {
     "data": {
      "text/html": [
       "<div>\n",
       "<style scoped>\n",
       "    .dataframe tbody tr th:only-of-type {\n",
       "        vertical-align: middle;\n",
       "    }\n",
       "\n",
       "    .dataframe tbody tr th {\n",
       "        vertical-align: top;\n",
       "    }\n",
       "\n",
       "    .dataframe thead th {\n",
       "        text-align: right;\n",
       "    }\n",
       "</style>\n",
       "<table border=\"1\" class=\"dataframe\">\n",
       "  <thead>\n",
       "    <tr style=\"text-align: right;\">\n",
       "      <th></th>\n",
       "      <th>item_id</th>\n",
       "      <th>title</th>\n",
       "      <th>genres</th>\n",
       "      <th>tmdbId</th>\n",
       "    </tr>\n",
       "  </thead>\n",
       "  <tbody>\n",
       "    <tr>\n",
       "      <th>0</th>\n",
       "      <td>0</td>\n",
       "      <td>Toy Story (1995)</td>\n",
       "      <td>['Animation', \"Children's\", 'Comedy']</td>\n",
       "      <td>862.0</td>\n",
       "    </tr>\n",
       "    <tr>\n",
       "      <th>1</th>\n",
       "      <td>1</td>\n",
       "      <td>Jumanji (1995)</td>\n",
       "      <td>['Adventure', \"Children's\", 'Fantasy']</td>\n",
       "      <td>8844.0</td>\n",
       "    </tr>\n",
       "    <tr>\n",
       "      <th>2</th>\n",
       "      <td>2</td>\n",
       "      <td>Grumpier Old Men (1995)</td>\n",
       "      <td>['Comedy', 'Romance']</td>\n",
       "      <td>15602.0</td>\n",
       "    </tr>\n",
       "    <tr>\n",
       "      <th>3</th>\n",
       "      <td>3</td>\n",
       "      <td>Waiting to Exhale (1995)</td>\n",
       "      <td>['Comedy', 'Drama']</td>\n",
       "      <td>31357.0</td>\n",
       "    </tr>\n",
       "    <tr>\n",
       "      <th>4</th>\n",
       "      <td>4</td>\n",
       "      <td>Father of the Bride Part II (1995)</td>\n",
       "      <td>['Comedy']</td>\n",
       "      <td>11862.0</td>\n",
       "    </tr>\n",
       "    <tr>\n",
       "      <th>...</th>\n",
       "      <td>...</td>\n",
       "      <td>...</td>\n",
       "      <td>...</td>\n",
       "      <td>...</td>\n",
       "    </tr>\n",
       "    <tr>\n",
       "      <th>3701</th>\n",
       "      <td>3701</td>\n",
       "      <td>Meet the Parents (2000)</td>\n",
       "      <td>['Comedy']</td>\n",
       "      <td>1597.0</td>\n",
       "    </tr>\n",
       "    <tr>\n",
       "      <th>3702</th>\n",
       "      <td>3702</td>\n",
       "      <td>Requiem for a Dream (2000)</td>\n",
       "      <td>['Drama']</td>\n",
       "      <td>641.0</td>\n",
       "    </tr>\n",
       "    <tr>\n",
       "      <th>3703</th>\n",
       "      <td>3703</td>\n",
       "      <td>Tigerland (2000)</td>\n",
       "      <td>['Drama']</td>\n",
       "      <td>10687.0</td>\n",
       "    </tr>\n",
       "    <tr>\n",
       "      <th>3704</th>\n",
       "      <td>3704</td>\n",
       "      <td>Two Family House (2000)</td>\n",
       "      <td>['Drama']</td>\n",
       "      <td>63956.0</td>\n",
       "    </tr>\n",
       "    <tr>\n",
       "      <th>3705</th>\n",
       "      <td>3705</td>\n",
       "      <td>Contender, The (2000)</td>\n",
       "      <td>['Drama', 'Thriller']</td>\n",
       "      <td>6521.0</td>\n",
       "    </tr>\n",
       "  </tbody>\n",
       "</table>\n",
       "<p>3706 rows × 4 columns</p>\n",
       "</div>"
      ],
      "text/plain": [
       "      item_id                               title  \\\n",
       "0           0                    Toy Story (1995)   \n",
       "1           1                      Jumanji (1995)   \n",
       "2           2             Grumpier Old Men (1995)   \n",
       "3           3            Waiting to Exhale (1995)   \n",
       "4           4  Father of the Bride Part II (1995)   \n",
       "...       ...                                 ...   \n",
       "3701     3701             Meet the Parents (2000)   \n",
       "3702     3702          Requiem for a Dream (2000)   \n",
       "3703     3703                    Tigerland (2000)   \n",
       "3704     3704             Two Family House (2000)   \n",
       "3705     3705               Contender, The (2000)   \n",
       "\n",
       "                                      genres   tmdbId  \n",
       "0      ['Animation', \"Children's\", 'Comedy']    862.0  \n",
       "1     ['Adventure', \"Children's\", 'Fantasy']   8844.0  \n",
       "2                      ['Comedy', 'Romance']  15602.0  \n",
       "3                        ['Comedy', 'Drama']  31357.0  \n",
       "4                                 ['Comedy']  11862.0  \n",
       "...                                      ...      ...  \n",
       "3701                              ['Comedy']   1597.0  \n",
       "3702                               ['Drama']    641.0  \n",
       "3703                               ['Drama']  10687.0  \n",
       "3704                               ['Drama']  63956.0  \n",
       "3705                   ['Drama', 'Thriller']   6521.0  \n",
       "\n",
       "[3706 rows x 4 columns]"
      ]
     },
     "execution_count": 3,
     "metadata": {},
     "output_type": "execute_result"
    }
   ],
   "source": [
    "RATINGS_PATH = 'ml-1m/ratings.csv'\n",
    "USERS_PATH = 'ml-1m/users.csv'\n",
    "ITEMS_PATH = 'ml-1m/items.csv'\n",
    "def load_movielens_1m():\n",
    "    ratings = pd.read_csv(RATINGS_PATH)\n",
    "    users = pd.read_csv(USERS_PATH)\n",
    "    items = pd.read_csv(ITEMS_PATH)\n",
    "    return ratings, users, items\n",
    "\n",
    "ratings_df, users_df, items_df = load_movielens_1m()\n",
    "items_df\n"
   ]
  },
  {
   "cell_type": "code",
   "execution_count": 4,
   "id": "150a39a2-5eba-4505-985f-a703ed849d69",
   "metadata": {
    "tags": []
   },
   "outputs": [
    {
     "data": {
      "text/html": [
       "<div>\n",
       "<style scoped>\n",
       "    .dataframe tbody tr th:only-of-type {\n",
       "        vertical-align: middle;\n",
       "    }\n",
       "\n",
       "    .dataframe tbody tr th {\n",
       "        vertical-align: top;\n",
       "    }\n",
       "\n",
       "    .dataframe thead th {\n",
       "        text-align: right;\n",
       "    }\n",
       "</style>\n",
       "<table border=\"1\" class=\"dataframe\">\n",
       "  <thead>\n",
       "    <tr style=\"text-align: right;\">\n",
       "      <th></th>\n",
       "      <th>user_id</th>\n",
       "      <th>item_id</th>\n",
       "      <th>rating</th>\n",
       "      <th>timestamp</th>\n",
       "    </tr>\n",
       "  </thead>\n",
       "  <tbody>\n",
       "    <tr>\n",
       "      <th>0</th>\n",
       "      <td>0</td>\n",
       "      <td>1104</td>\n",
       "      <td>5</td>\n",
       "      <td>978300760</td>\n",
       "    </tr>\n",
       "    <tr>\n",
       "      <th>1</th>\n",
       "      <td>0</td>\n",
       "      <td>639</td>\n",
       "      <td>3</td>\n",
       "      <td>978302109</td>\n",
       "    </tr>\n",
       "    <tr>\n",
       "      <th>2</th>\n",
       "      <td>0</td>\n",
       "      <td>853</td>\n",
       "      <td>3</td>\n",
       "      <td>978301968</td>\n",
       "    </tr>\n",
       "    <tr>\n",
       "      <th>3</th>\n",
       "      <td>0</td>\n",
       "      <td>3177</td>\n",
       "      <td>4</td>\n",
       "      <td>978300275</td>\n",
       "    </tr>\n",
       "    <tr>\n",
       "      <th>4</th>\n",
       "      <td>0</td>\n",
       "      <td>2162</td>\n",
       "      <td>5</td>\n",
       "      <td>978824291</td>\n",
       "    </tr>\n",
       "    <tr>\n",
       "      <th>...</th>\n",
       "      <td>...</td>\n",
       "      <td>...</td>\n",
       "      <td>...</td>\n",
       "      <td>...</td>\n",
       "    </tr>\n",
       "    <tr>\n",
       "      <th>1000204</th>\n",
       "      <td>6039</td>\n",
       "      <td>1019</td>\n",
       "      <td>1</td>\n",
       "      <td>956716541</td>\n",
       "    </tr>\n",
       "    <tr>\n",
       "      <th>1000205</th>\n",
       "      <td>6039</td>\n",
       "      <td>1022</td>\n",
       "      <td>5</td>\n",
       "      <td>956704887</td>\n",
       "    </tr>\n",
       "    <tr>\n",
       "      <th>1000206</th>\n",
       "      <td>6039</td>\n",
       "      <td>548</td>\n",
       "      <td>5</td>\n",
       "      <td>956704746</td>\n",
       "    </tr>\n",
       "    <tr>\n",
       "      <th>1000207</th>\n",
       "      <td>6039</td>\n",
       "      <td>1024</td>\n",
       "      <td>4</td>\n",
       "      <td>956715648</td>\n",
       "    </tr>\n",
       "    <tr>\n",
       "      <th>1000208</th>\n",
       "      <td>6039</td>\n",
       "      <td>1025</td>\n",
       "      <td>4</td>\n",
       "      <td>956715569</td>\n",
       "    </tr>\n",
       "  </tbody>\n",
       "</table>\n",
       "<p>1000209 rows × 4 columns</p>\n",
       "</div>"
      ],
      "text/plain": [
       "         user_id  item_id  rating  timestamp\n",
       "0              0     1104       5  978300760\n",
       "1              0      639       3  978302109\n",
       "2              0      853       3  978301968\n",
       "3              0     3177       4  978300275\n",
       "4              0     2162       5  978824291\n",
       "...          ...      ...     ...        ...\n",
       "1000204     6039     1019       1  956716541\n",
       "1000205     6039     1022       5  956704887\n",
       "1000206     6039      548       5  956704746\n",
       "1000207     6039     1024       4  956715648\n",
       "1000208     6039     1025       4  956715569\n",
       "\n",
       "[1000209 rows x 4 columns]"
      ]
     },
     "execution_count": 4,
     "metadata": {},
     "output_type": "execute_result"
    }
   ],
   "source": [
    "num_users = users_df['user_id'].max() + 1\n",
    "num_items = items_df['item_id'].max() + 1\n",
    "ratings_df"
   ]
  },
  {
   "cell_type": "code",
   "execution_count": 5,
   "id": "46520342-bd7d-4642-a0f1-14b5443b06f1",
   "metadata": {
    "tags": []
   },
   "outputs": [],
   "source": [
    "train_ratings, test_ratings = train_test_split(ratings_df,\n",
    "                                           test_size=0.1,\n",
    "                                           random_state=seed)\n",
    "\n",
    "train_mat = torch.zeros((num_users, num_items))\n",
    "test_mat = torch.zeros((num_users, num_items))\n",
    "truth_mat = torch.zeros((num_users, num_items))\n",
    "\n",
    "for row in train_ratings.itertuples(index=False):\n",
    "    user_id, item_id, rating, *_ = row\n",
    "    train_mat[user_id , item_id ] = rating\n",
    "for row in test_ratings.itertuples(index=False):\n",
    "    user_id, item_id, rating, *_ = row\n",
    "    test_mat[user_id , item_id ] = rating\n",
    "for row in ratings_df.itertuples(index=False):\n",
    "    user_id, item_id, rating, *_ = row\n",
    "    truth_mat[user_id , item_id ] = rating\n"
   ]
  },
  {
   "cell_type": "code",
   "execution_count": 6,
   "id": "f0b8c583-ad83-43be-8b80-09344b72ed7e",
   "metadata": {
    "tags": []
   },
   "outputs": [
    {
     "data": {
      "text/plain": [
       "tensor([[5., 0., 0.,  ..., 0., 0., 0.],\n",
       "        [0., 0., 0.,  ..., 0., 0., 0.],\n",
       "        [0., 0., 0.,  ..., 0., 0., 0.],\n",
       "        ...,\n",
       "        [0., 0., 0.,  ..., 0., 0., 0.],\n",
       "        [0., 0., 0.,  ..., 0., 0., 0.],\n",
       "        [3., 0., 0.,  ..., 0., 0., 0.]])"
      ]
     },
     "execution_count": 6,
     "metadata": {},
     "output_type": "execute_result"
    }
   ],
   "source": [
    "truth_mat"
   ]
  },
  {
   "cell_type": "code",
   "execution_count": 7,
   "id": "22980c45-4e65-45dd-b7e2-da6d86cce404",
   "metadata": {},
   "outputs": [],
   "source": [
    "observed_full = truth_mat > 0\n",
    "observed_test = (test_mat > 0) & observed_full\n",
    "observed = (train_mat > 0) & observed_full"
   ]
  },
  {
   "cell_type": "code",
   "execution_count": 8,
   "id": "bd542cac-a72a-4b8e-8d41-0b7ce542bdf8",
   "metadata": {
    "tags": []
   },
   "outputs": [
    {
     "data": {
      "text/plain": [
       "tensor(3.5814)"
      ]
     },
     "execution_count": 8,
     "metadata": {},
     "output_type": "execute_result"
    }
   ],
   "source": [
    "train_mat[observed].mean()"
   ]
  },
  {
   "cell_type": "code",
   "execution_count": 9,
   "id": "4aa44c12-63c8-4790-92bb-e85fd60244a0",
   "metadata": {
    "tags": []
   },
   "outputs": [
    {
     "name": "stdout",
     "output_type": "stream",
     "text": [
      "Epoch 10: Train Loss = 7.7148, Test RMSE = 2.7077, Training time :45.10\n",
      "Epoch 20: Train Loss = 4.9269, Test RMSE = 2.2029, Training time :91.94\n",
      "Epoch 30: Train Loss = 3.8514, Test RMSE = 1.9603, Training time :150.78\n",
      "Epoch 40: Train Loss = 3.4378, Test RMSE = 1.8608, Training time :223.04\n",
      "Epoch 50: Train Loss = 3.2643, Test RMSE = 1.8211, Training time :284.84\n",
      "Epoch 60: Train Loss = 3.1778, Test RMSE = 1.7949, Training time :345.40\n",
      "Epoch 70: Train Loss = 3.1305, Test RMSE = 1.7858, Training time :396.75\n",
      "Epoch 80: Train Loss = 3.1100, Test RMSE = 1.7802, Training time :440.57\n",
      "Epoch 90: Train Loss = 3.0793, Test RMSE = 1.7691, Training time :486.93\n",
      "Epoch 100: Train Loss = 3.0691, Test RMSE = 1.7666, Training time :536.57\n",
      "Epoch 110: Train Loss = 3.0509, Test RMSE = 1.7635, Training time :585.30\n",
      "Epoch 120: Train Loss = 3.0529, Test RMSE = 1.7640, Training time :636.20\n",
      "Epoch 130: Train Loss = 3.0403, Test RMSE = 1.7604, Training time :686.63\n",
      "Epoch 140: Train Loss = 3.0425, Test RMSE = 1.7610, Training time :734.91\n",
      "Epoch 150: Train Loss = 3.0312, Test RMSE = 1.7578, Training time :783.72\n",
      "Epoch 160: Train Loss = 3.0244, Test RMSE = 1.7558, Training time :833.14\n",
      "Epoch 170: Train Loss = 3.0233, Test RMSE = 1.7554, Training time :882.95\n",
      "Epoch 180: Train Loss = 3.0216, Test RMSE = 1.7540, Training time :937.30\n",
      "Epoch 190: Train Loss = 3.0152, Test RMSE = 1.7530, Training time :990.27\n",
      "Epoch 200: Train Loss = 3.0086, Test RMSE = 1.7505, Training time :1043.56\n"
     ]
    }
   ],
   "source": [
    "# Hyperparameters\n",
    "num_factors = 100\n",
    "lr = 0.01\n",
    "num_epochs = 200\n",
    "lambda_reg = 0.02\n",
    "\n",
    "test_rmse_log = []\n",
    "epochs_log = []\n",
    "\n",
    "# Initialize latent factors and biases\n",
    "user_factors = torch.randn(num_users, num_factors) * 0.1\n",
    "item_factors = torch.randn(num_items, num_factors) * 0.1\n",
    "user_bias = torch.zeros(num_users) * 0.1\n",
    "item_bias = torch.zeros(num_items) * 0.1\n",
    "\n",
    "# Get indices of observed training ratings\n",
    "train_indices = observed.nonzero(as_tuple=False)  # shape [N, 2]\n",
    "test_indices = observed_test.nonzero(as_tuple=False)\n",
    "\n",
    "start_time = time.perf_counter()\n",
    "\n",
    "for epoch in range(num_epochs):\n",
    "    # Extract (u, i) pairs\n",
    "    users = train_indices[:, 0]\n",
    "    items = train_indices[:, 1]\n",
    "    ratings = train_mat[users, items]\n",
    "\n",
    "    # Predictions\n",
    "    preds = user_bias[users] + item_bias[items] + (user_factors[users] * item_factors[items]).sum(dim=1)\n",
    "    errors = ratings - preds\n",
    "\n",
    "    # Compute loss\n",
    "    total_loss = (errors ** 2).mean().item()\n",
    "\n",
    "    # Gradients\n",
    "    grad_user_factors = -2 * (errors[:, None] * item_factors[items]) + 2 * lambda_reg * user_factors[users]\n",
    "    grad_item_factors = -2 * (errors[:, None] * user_factors[users]) + 2 * lambda_reg * item_factors[items]\n",
    "    grad_user_bias = -2 * errors + 2 * lambda_reg * user_bias[users]\n",
    "    grad_item_bias = -2 * errors + 2 * lambda_reg * item_bias[items]\n",
    "\n",
    "    # Update parameters\n",
    "    user_factors[users] -= lr * grad_user_factors\n",
    "    item_factors[items] -= lr * grad_item_factors\n",
    "    user_bias[users] -= lr * grad_user_bias\n",
    "    item_bias[items] -= lr * grad_item_bias\n",
    "\n",
    "    # Compute test RMSE every 10 epochs\n",
    "    if (epoch + 1) % 10 == 0:\n",
    "        test_users = test_indices[:, 0]\n",
    "        test_items = test_indices[:, 1]\n",
    "        test_ratings = test_mat[test_users, test_items]\n",
    "\n",
    "        test_preds = user_bias[test_users] + item_bias[test_items] + \\\n",
    "                     (user_factors[test_users] * item_factors[test_items]).sum(dim=1)\n",
    "        train_time = round(time.perf_counter() - start_time, 4)\n",
    "\n",
    "        test_rmse = torch.sqrt(((test_ratings - test_preds) ** 2).mean()).item()\n",
    "        print(f\"Epoch {epoch+1}: Train Loss = {total_loss:.4f}, Test RMSE = {test_rmse:.4f}, Training time :{train_time :.2f}\")\n",
    "        test_rmse_log.append(test_rmse)\n",
    "        epochs_log.append(epoch + 1)\n"
   ]
  },
  {
   "cell_type": "code",
   "execution_count": 10,
   "id": "702ca4bd-dcd3-43f7-8602-4d6e912aa90f",
   "metadata": {
    "tags": []
   },
   "outputs": [
    {
     "data": {
      "text/plain": [
       "tensor([[ 0.0874,  0.2110,  0.0491,  ..., -0.1644,  0.0626,  0.0556],\n",
       "        [ 0.0579,  0.0143,  0.0948,  ...,  0.0079,  0.0254,  0.1291],\n",
       "        [ 0.0595,  0.2587, -0.0724,  ..., -0.0199,  0.0699,  0.0767],\n",
       "        ...,\n",
       "        [ 0.0254,  0.2044,  0.0706,  ...,  0.2693,  0.0706,  0.2364],\n",
       "        [-0.0036, -0.0377,  0.2466,  ..., -0.1748,  0.0731, -0.0207],\n",
       "        [ 0.0526, -0.1113, -0.2557,  ..., -0.0570,  0.0750,  0.0042]])"
      ]
     },
     "execution_count": 10,
     "metadata": {},
     "output_type": "execute_result"
    }
   ],
   "source": [
    "user_factors "
   ]
  },
  {
   "cell_type": "code",
   "execution_count": 11,
   "id": "639d763d-3691-47d5-86d4-7625fb2423b5",
   "metadata": {},
   "outputs": [
    {
     "data": {
      "image/png": "[encoded data removed]",
      "text/plain": [
       "<Figure size 640x480 with 1 Axes>"
      ]
     },
     "metadata": {},
     "output_type": "display_data"
    }
   ],
   "source": [
    "plt.plot(epochs_log, test_rmse_log, marker='o')\n",
    "plt.xlabel(\"Epoch\")\n",
    "plt.ylabel(\"Test RMSE\")\n",
    "plt.title(\"Test RMSE over Epochs\")\n",
    "plt.grid(True)\n",
    "plt.show()"
   ]
  },
  {
   "cell_type": "code",
   "execution_count": 12,
   "id": "c64446d9-975f-46c7-8d2a-3d596bb96f33",
   "metadata": {
    "tags": []
   },
   "outputs": [
    {
     "data": {
      "text/plain": [
       "torch.Size([6040, 3706])"
      ]
     },
     "execution_count": 12,
     "metadata": {},
     "output_type": "execute_result"
    }
   ],
   "source": [
    "full_predict = torch.matmul(user_factors, item_factors.T) + user_bias[:, None] + item_bias[None, :] \n",
    "full_predict.shape"
   ]
  },
  {
   "cell_type": "code",
   "execution_count": 13,
   "id": "7631bbd7-493e-4240-89d6-8e85bc145ed8",
   "metadata": {
    "tags": []
   },
   "outputs": [],
   "source": [
    "import numpy as np\n",
    "import torch\n",
    "\n",
    "def dcg(relevance_scores):\n",
    "    return np.sum([\n",
    "        rel / np.log2(idx + 2) for idx, rel in enumerate(relevance_scores)\n",
    "    ])\n",
    "\n",
    "def ndcg_at_k(predicted_indices, ground_truth_ratings_tensor, k=20):\n",
    "    ground_truth_ratings = ground_truth_ratings_tensor.cpu().numpy()\n",
    "    top_k_indices = [int(i) for i in predicted_indices[:k]]\n",
    "    relevance = [ground_truth_ratings[i] for i in top_k_indices]\n",
    "\n",
    "    dcg_score = dcg(relevance)\n",
    "    ideal_relevance = sorted(relevance, reverse=True)\n",
    "    idcg_score = dcg(ideal_relevance)\n",
    "\n",
    "    if idcg_score == 0:\n",
    "        return 0.0\n",
    "    return dcg_score / idcg_score\n",
    "\n",
    "def mean_ndcg_over_observed_test(full_predict, truth_mat, test_mat, k=20):\n",
    "    device = full_predict.device\n",
    "    observed_full = truth_mat > 0\n",
    "    observed_test = (test_mat > 0) & observed_full\n",
    "\n",
    "    ndcg_scores = []\n",
    "    num_users = full_predict.shape[0]\n",
    "\n",
    "    for user_idx in range(num_users):\n",
    "        test_items = observed_test[user_idx].nonzero(as_tuple=True)[0]\n",
    "        if len(test_items) == 0:\n",
    "            continue \n",
    "\n",
    "        user_preds = full_predict[user_idx]\n",
    "        user_truth = truth_mat[user_idx]\n",
    "\n",
    "        _, ranked_items = torch.sort(user_preds, descending=True)\n",
    "        ranked_items = ranked_items.cpu().numpy()\n",
    "\n",
    "        ndcg = ndcg_at_k(ranked_items, user_truth, k)\n",
    "        ndcg_scores.append(ndcg)\n",
    "\n",
    "    if len(ndcg_scores) == 0:\n",
    "        return 0.0\n",
    "    return sum(ndcg_scores) / len(ndcg_scores)\n"
   ]
  },
  {
   "cell_type": "code",
   "execution_count": 14,
   "id": "e215be19-47e9-4965-a4e4-ec562e439ee7",
   "metadata": {
    "tags": []
   },
   "outputs": [
    {
     "name": "stdout",
     "output_type": "stream",
     "text": [
      "Mean NDCG@20: 0.3070\n"
     ]
    }
   ],
   "source": [
    "full_predict = torch.matmul(user_factors, item_factors.T) + user_bias[:, None] + item_bias[None, :]\n",
    "\n",
    "k = 20  \n",
    "mean_ndcg = mean_ndcg_over_observed_test(full_predict, truth_mat, test_mat, k)\n",
    "\n",
    "print(f\"Mean NDCG@{k}: {mean_ndcg:.4f}\")"
   ]
  }
 ],
 "metadata": {
  "kernelspec": {
   "display_name": ".conda-default:Python",
   "language": "python",
   "name": "conda-env-.conda-default-py"
  },
  "language_info": {
   "codemirror_mode": {
    "name": "ipython",
    "version": 3
   },
   "file_extension": ".py",
   "mimetype": "text/x-python",
   "name": "python",
   "nbconvert_exporter": "python",
   "pygments_lexer": "ipython3",
   "version": "3.9.19"
  }
 },
 "nbformat": 4,
 "nbformat_minor": 5
}
