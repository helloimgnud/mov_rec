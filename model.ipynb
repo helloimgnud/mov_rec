{
 "cells": [
  {
   "cell_type": "code",
   "execution_count": 1,
   "id": "439d5d95-5b04-44f5-aade-44ce253ebc9d",
   "metadata": {
    "tags": []
   },
   "outputs": [],
   "source": [
    "import numpy as np\n",
    "import torch\n",
    "from torch import nn, div, square, norm\n",
    "from torch.nn import functional as F\n",
    "import pandas as pd\n",
    "from sklearn.preprocessing import OrdinalEncoder, MinMaxScaler\n",
    "from sklearn.model_selection import train_test_split\n",
    "from torch.utils.data import Dataset, DataLoader\n",
    "import matplotlib.pyplot as plt\n",
    "import time"
   ]
  },
  {
   "cell_type": "code",
   "execution_count": 2,
   "id": "40e3f82f-b539-4b03-84de-a14fe687f8ad",
   "metadata": {},
   "outputs": [
    {
     "data": {
      "text/plain": [
       "<torch._C.Generator at 0x7efcf779f250>"
      ]
     },
     "execution_count": 2,
     "metadata": {},
     "output_type": "execute_result"
    }
   ],
   "source": [
    "datapath = 'ml-1m/'\n",
    "seed = 42\n",
    "device = 'cuda' if torch.cuda.is_available() else 'cpu'\n",
    "torch.manual_seed(seed)"
   ]
  },
  {
   "cell_type": "markdown",
   "id": "8d5ed885-84e6-46b5-85fe-4792947c3aa3",
   "metadata": {},
   "source": [
    "# **Preparing Data**"
   ]
  },
  {
   "cell_type": "code",
   "execution_count": 3,
   "id": "1ebd7787-7768-4473-8b7b-123c31638bef",
   "metadata": {
    "tags": []
   },
   "outputs": [
    {
     "data": {
      "text/html": [
       "<div>\n",
       "<style scoped>\n",
       "    .dataframe tbody tr th:only-of-type {\n",
       "        vertical-align: middle;\n",
       "    }\n",
       "\n",
       "    .dataframe tbody tr th {\n",
       "        vertical-align: top;\n",
       "    }\n",
       "\n",
       "    .dataframe thead th {\n",
       "        text-align: right;\n",
       "    }\n",
       "</style>\n",
       "<table border=\"1\" class=\"dataframe\">\n",
       "  <thead>\n",
       "    <tr style=\"text-align: right;\">\n",
       "      <th></th>\n",
       "      <th>user_id</th>\n",
       "      <th>item_id</th>\n",
       "      <th>rating</th>\n",
       "      <th>timestamp</th>\n",
       "    </tr>\n",
       "  </thead>\n",
       "  <tbody>\n",
       "    <tr>\n",
       "      <th>0</th>\n",
       "      <td>0</td>\n",
       "      <td>1192</td>\n",
       "      <td>5</td>\n",
       "      <td>978300760</td>\n",
       "    </tr>\n",
       "    <tr>\n",
       "      <th>1</th>\n",
       "      <td>0</td>\n",
       "      <td>660</td>\n",
       "      <td>3</td>\n",
       "      <td>978302109</td>\n",
       "    </tr>\n",
       "    <tr>\n",
       "      <th>2</th>\n",
       "      <td>0</td>\n",
       "      <td>913</td>\n",
       "      <td>3</td>\n",
       "      <td>978301968</td>\n",
       "    </tr>\n",
       "    <tr>\n",
       "      <th>3</th>\n",
       "      <td>0</td>\n",
       "      <td>3407</td>\n",
       "      <td>4</td>\n",
       "      <td>978300275</td>\n",
       "    </tr>\n",
       "    <tr>\n",
       "      <th>4</th>\n",
       "      <td>0</td>\n",
       "      <td>2354</td>\n",
       "      <td>5</td>\n",
       "      <td>978824291</td>\n",
       "    </tr>\n",
       "    <tr>\n",
       "      <th>...</th>\n",
       "      <td>...</td>\n",
       "      <td>...</td>\n",
       "      <td>...</td>\n",
       "      <td>...</td>\n",
       "    </tr>\n",
       "    <tr>\n",
       "      <th>1000204</th>\n",
       "      <td>6039</td>\n",
       "      <td>1090</td>\n",
       "      <td>1</td>\n",
       "      <td>956716541</td>\n",
       "    </tr>\n",
       "    <tr>\n",
       "      <th>1000205</th>\n",
       "      <td>6039</td>\n",
       "      <td>1093</td>\n",
       "      <td>5</td>\n",
       "      <td>956704887</td>\n",
       "    </tr>\n",
       "    <tr>\n",
       "      <th>1000206</th>\n",
       "      <td>6039</td>\n",
       "      <td>561</td>\n",
       "      <td>5</td>\n",
       "      <td>956704746</td>\n",
       "    </tr>\n",
       "    <tr>\n",
       "      <th>1000207</th>\n",
       "      <td>6039</td>\n",
       "      <td>1095</td>\n",
       "      <td>4</td>\n",
       "      <td>956715648</td>\n",
       "    </tr>\n",
       "    <tr>\n",
       "      <th>1000208</th>\n",
       "      <td>6039</td>\n",
       "      <td>1096</td>\n",
       "      <td>4</td>\n",
       "      <td>956715569</td>\n",
       "    </tr>\n",
       "  </tbody>\n",
       "</table>\n",
       "<p>1000209 rows × 4 columns</p>\n",
       "</div>"
      ],
      "text/plain": [
       "         user_id  item_id  rating  timestamp\n",
       "0              0     1192       5  978300760\n",
       "1              0      660       3  978302109\n",
       "2              0      913       3  978301968\n",
       "3              0     3407       4  978300275\n",
       "4              0     2354       5  978824291\n",
       "...          ...      ...     ...        ...\n",
       "1000204     6039     1090       1  956716541\n",
       "1000205     6039     1093       5  956704887\n",
       "1000206     6039      561       5  956704746\n",
       "1000207     6039     1095       4  956715648\n",
       "1000208     6039     1096       4  956715569\n",
       "\n",
       "[1000209 rows x 4 columns]"
      ]
     },
     "execution_count": 3,
     "metadata": {},
     "output_type": "execute_result"
    }
   ],
   "source": [
    "RATINGS_PATH = 'ml-1m/ratings.dat'\n",
    "USERS_PATH = 'ml-1m/users.dat'\n",
    "ITEMS_PATH = 'ml-1m/movies.dat'\n",
    "def load_movielens_1m():\n",
    "    ratings_cols = ['user_id', 'item_id', 'rating', 'timestamp']\n",
    "    ratings = pd.read_csv(RATINGS_PATH, sep='::', names=ratings_cols, engine='python', encoding='latin-1')\n",
    "\n",
    "    users_cols = ['user_id', 'gender', 'age', 'occupation', 'zip_code']\n",
    "    users = pd.read_csv(USERS_PATH, sep='::', names=users_cols, engine='python', encoding='latin-1')\n",
    "\n",
    "    items_cols = ['item_id', 'title', 'genres']\n",
    "    items = pd.read_csv(ITEMS_PATH, sep='::', names=items_cols, engine='python', encoding='latin-1')\n",
    "\n",
    "    items['genres'] = items['genres'].str.split('|')\n",
    "    \n",
    "    return ratings, users, items\n",
    "\n",
    "ratings_df, users_df, items_df = load_movielens_1m()\n",
    "num_users, num_items = users_df['user_id'].max(), items_df['item_id'].max()\n",
    "# reindex to 0-based\n",
    "users_df['user_id'] -= 1\n",
    "items_df['item_id'] -= 1\n",
    "ratings_df['user_id'] -= 1\n",
    "ratings_df['item_id'] -= 1\n",
    "ratings_df"
   ]
  },
  {
   "cell_type": "code",
   "execution_count": 4,
   "id": "021d0693-6b33-4e84-aaf2-834b2a9a682b",
   "metadata": {
    "tags": []
   },
   "outputs": [
    {
     "name": "stdout",
     "output_type": "stream",
     "text": [
      "user_id :6040\n",
      "gender :2\n",
      "age :7\n",
      "occupation :21\n",
      "zip_code :3439\n"
     ]
    }
   ],
   "source": [
    "for col in users_df.columns:\n",
    "    print(f'{col} :{users_df[col].nunique()}')"
   ]
  },
  {
   "cell_type": "code",
   "execution_count": 5,
   "id": "5e05b4e8-6175-4327-a857-41aa3dd9971e",
   "metadata": {
    "tags": []
   },
   "outputs": [
    {
     "data": {
      "text/html": [
       "<div>\n",
       "<style scoped>\n",
       "    .dataframe tbody tr th:only-of-type {\n",
       "        vertical-align: middle;\n",
       "    }\n",
       "\n",
       "    .dataframe tbody tr th {\n",
       "        vertical-align: top;\n",
       "    }\n",
       "\n",
       "    .dataframe thead th {\n",
       "        text-align: right;\n",
       "    }\n",
       "</style>\n",
       "<table border=\"1\" class=\"dataframe\">\n",
       "  <thead>\n",
       "    <tr style=\"text-align: right;\">\n",
       "      <th></th>\n",
       "      <th>user_id</th>\n",
       "      <th>gender</th>\n",
       "      <th>age</th>\n",
       "      <th>occupation</th>\n",
       "    </tr>\n",
       "  </thead>\n",
       "  <tbody>\n",
       "    <tr>\n",
       "      <th>0</th>\n",
       "      <td>0</td>\n",
       "      <td>0.0</td>\n",
       "      <td>0.000000</td>\n",
       "      <td>0.50</td>\n",
       "    </tr>\n",
       "    <tr>\n",
       "      <th>1</th>\n",
       "      <td>1</td>\n",
       "      <td>1.0</td>\n",
       "      <td>1.000000</td>\n",
       "      <td>0.80</td>\n",
       "    </tr>\n",
       "    <tr>\n",
       "      <th>2</th>\n",
       "      <td>2</td>\n",
       "      <td>1.0</td>\n",
       "      <td>0.333333</td>\n",
       "      <td>0.75</td>\n",
       "    </tr>\n",
       "    <tr>\n",
       "      <th>3</th>\n",
       "      <td>3</td>\n",
       "      <td>1.0</td>\n",
       "      <td>0.666667</td>\n",
       "      <td>0.35</td>\n",
       "    </tr>\n",
       "    <tr>\n",
       "      <th>4</th>\n",
       "      <td>4</td>\n",
       "      <td>1.0</td>\n",
       "      <td>0.333333</td>\n",
       "      <td>1.00</td>\n",
       "    </tr>\n",
       "    <tr>\n",
       "      <th>...</th>\n",
       "      <td>...</td>\n",
       "      <td>...</td>\n",
       "      <td>...</td>\n",
       "      <td>...</td>\n",
       "    </tr>\n",
       "    <tr>\n",
       "      <th>6035</th>\n",
       "      <td>6035</td>\n",
       "      <td>0.0</td>\n",
       "      <td>0.333333</td>\n",
       "      <td>0.75</td>\n",
       "    </tr>\n",
       "    <tr>\n",
       "      <th>6036</th>\n",
       "      <td>6036</td>\n",
       "      <td>0.0</td>\n",
       "      <td>0.666667</td>\n",
       "      <td>0.05</td>\n",
       "    </tr>\n",
       "    <tr>\n",
       "      <th>6037</th>\n",
       "      <td>6037</td>\n",
       "      <td>0.0</td>\n",
       "      <td>1.000000</td>\n",
       "      <td>0.05</td>\n",
       "    </tr>\n",
       "    <tr>\n",
       "      <th>6038</th>\n",
       "      <td>6038</td>\n",
       "      <td>0.0</td>\n",
       "      <td>0.666667</td>\n",
       "      <td>0.00</td>\n",
       "    </tr>\n",
       "    <tr>\n",
       "      <th>6039</th>\n",
       "      <td>6039</td>\n",
       "      <td>1.0</td>\n",
       "      <td>0.333333</td>\n",
       "      <td>0.30</td>\n",
       "    </tr>\n",
       "  </tbody>\n",
       "</table>\n",
       "<p>6040 rows × 4 columns</p>\n",
       "</div>"
      ],
      "text/plain": [
       "      user_id  gender       age  occupation\n",
       "0           0     0.0  0.000000        0.50\n",
       "1           1     1.0  1.000000        0.80\n",
       "2           2     1.0  0.333333        0.75\n",
       "3           3     1.0  0.666667        0.35\n",
       "4           4     1.0  0.333333        1.00\n",
       "...       ...     ...       ...         ...\n",
       "6035     6035     0.0  0.333333        0.75\n",
       "6036     6036     0.0  0.666667        0.05\n",
       "6037     6037     0.0  1.000000        0.05\n",
       "6038     6038     0.0  0.666667        0.00\n",
       "6039     6039     1.0  0.333333        0.30\n",
       "\n",
       "[6040 rows x 4 columns]"
      ]
     },
     "execution_count": 5,
     "metadata": {},
     "output_type": "execute_result"
    }
   ],
   "source": [
    "cols_to_encode = ['gender', 'age', 'occupation']\n",
    "\n",
    "ordinal_encoder = OrdinalEncoder()\n",
    "scaler = MinMaxScaler()\n",
    "\n",
    "ordinal_encoded_array = ordinal_encoder.fit_transform(users_df[cols_to_encode])\n",
    "scaled_array = scaler.fit_transform(ordinal_encoded_array)\n",
    "scaled_df = pd.DataFrame(scaled_array, columns=cols_to_encode)\n",
    "users_encoded_df = pd.concat([users_df[['user_id']], scaled_df], axis=1)\n",
    "\n",
    "users_encoded_df"
   ]
  },
  {
   "cell_type": "code",
   "execution_count": 6,
   "id": "7f625d69-a396-46ff-ab27-426ab2cdab0d",
   "metadata": {
    "tags": []
   },
   "outputs": [
    {
     "data": {
      "text/plain": [
       "(torch.Size([4892]), torch.Size([544]), torch.Size([604]))"
      ]
     },
     "execution_count": 6,
     "metadata": {},
     "output_type": "execute_result"
    }
   ],
   "source": [
    "train_val_users, test_users = train_test_split(torch.arange(num_users),\n",
    "                                           test_size=0.1,\n",
    "                                           random_state=seed)\n",
    "train_users, val_users = train_test_split(train_val_users,\n",
    "                                           test_size=0.1,\n",
    "                                           random_state=seed)\n",
    "train_users.size(), val_users.size(), test_users.size()"
   ]
  },
  {
   "cell_type": "code",
   "execution_count": 7,
   "id": "ffa8a4b4-5d67-49eb-b292-0c1de7cb5f91",
   "metadata": {
    "tags": []
   },
   "outputs": [],
   "source": [
    "user_item_mat = torch.zeros((num_users, num_items))\n",
    "for row in ratings_df.itertuples(index=False):\n",
    "    user_id, item_id, rating, *_ = row\n",
    "    user_item_mat[user_id , item_id ] = rating"
   ]
  },
  {
   "cell_type": "code",
   "execution_count": 8,
   "id": "82efbfaa-e289-46cd-a485-987313cb35ee",
   "metadata": {
    "tags": []
   },
   "outputs": [],
   "source": [
    "from torch.utils.data import Dataset, DataLoader\n",
    "\n",
    "class MyDataset(Dataset):\n",
    "    def __init__(self, user_item_mat, user_indices):\n",
    "        self.user_item_mat = user_item_mat\n",
    "        self.user_indices = user_indices  # List/Tensor of user IDs\n",
    "\n",
    "    def __len__(self):\n",
    "        return len(self.user_indices)\n",
    "\n",
    "    def __getitem__(self, idx):\n",
    "        user_id = self.user_indices[idx]\n",
    "        return self.user_item_mat[user_id]  # shape: [num_items]\n",
    "\n",
    "train_dataset = MyDataset(user_item_mat, train_users)\n",
    "val_dataset = MyDataset(user_item_mat, val_users)\n",
    "test_dataset = MyDataset(user_item_mat, test_users)\n",
    "\n",
    "batch_size = 256\n",
    "num_workers = 2\n",
    "\n",
    "train_dl = DataLoader(train_dataset, batch_size=batch_size, shuffle=True, num_workers=num_workers)\n",
    "val_dl   = DataLoader(val_dataset, batch_size=batch_size, shuffle=False, num_workers=num_workers)\n",
    "test_dl  = DataLoader(test_dataset, batch_size=batch_size, shuffle=False, num_workers=num_workers)"
   ]
  },
  {
   "cell_type": "markdown",
   "id": "6e32b40a-31bb-4973-b22e-c81550bb63ac",
   "metadata": {},
   "source": [
    "# **Model**"
   ]
  },
  {
   "cell_type": "code",
   "execution_count": 9,
   "id": "1ee93565-9642-442a-8fcd-cdeee6dc1ed8",
   "metadata": {},
   "outputs": [],
   "source": [
    "class AutoRec(nn.Module):\n",
    "    def __init__(self, d, k, dropout):\n",
    "        super().__init__()\n",
    "        self.seq = nn.Sequential(\n",
    "            nn.Linear(d, k),\n",
    "            nn.Sigmoid(),\n",
    "            nn.Dropout(dropout),\n",
    "            nn.Linear(k, d)\n",
    "        )\n",
    "    \n",
    "    def forward(self, r):\n",
    "        return self.seq(r)"
   ]
  },
  {
   "cell_type": "code",
   "execution_count": 10,
   "id": "ba7fd94b-612a-4457-8e7c-9e582f6e7d25",
   "metadata": {},
   "outputs": [],
   "source": [
    "def train_epoch(model, dl, opt, criterion, device):\n",
    "    model.train()\n",
    "    total_loss = 0.0\n",
    "    total_samples = 0\n",
    "    start_time = time.perf_counter()\n",
    "\n",
    "    for batch_idx, r in enumerate(dl):\n",
    "        r = r.to(device)\n",
    "\n",
    "        r_hat = model(r)\n",
    "\n",
    "        mask = torch.sign(r)  \n",
    "        loss = criterion(r, r_hat * mask)\n",
    "\n",
    "        batch_size = r.size(0)\n",
    "        total_loss += loss.item() * batch_size\n",
    "        total_samples += batch_size\n",
    "\n",
    "        opt.zero_grad()\n",
    "        loss.backward()\n",
    "        opt.step()\n",
    "\n",
    "    avg_loss = total_loss / total_samples\n",
    "    total_time = round(time.perf_counter() - start_time, 4)\n",
    "    print(f\"Train done — Avg epoch loss: {avg_loss:.4f} | Total time: {total_time:.2f}s\")\n",
    "\n",
    "    return avg_loss"
   ]
  },
  {
   "cell_type": "code",
   "execution_count": 11,
   "id": "579e1343-bfe6-46ea-be2f-2b620e31c3df",
   "metadata": {},
   "outputs": [],
   "source": [
    "def eval_epoch(model, dl, criterion, device):\n",
    "    model.eval()\n",
    "    truth = []\n",
    "    predict = []\n",
    "    list_loss = []\n",
    "    total_weighted_loss = 0.0\n",
    "    total_rated = 0\n",
    "    start_time = time.perf_counter()\n",
    "\n",
    "    with torch.no_grad():\n",
    "        for batch_idx, r in enumerate(dl):\n",
    "            r = r.to(device) \n",
    "            r_hat = model(r)\n",
    "\n",
    "            mask = torch.sign(r)\n",
    "            masked_pred = r_hat * mask\n",
    "\n",
    "            truth.append(r)\n",
    "            predict.append(masked_pred)\n",
    "\n",
    "            loss = criterion(r, masked_pred)\n",
    "\n",
    "            num_rated = mask.sum().item()\n",
    "\n",
    "            total_weighted_loss += loss.item() * num_rated\n",
    "            total_rated += num_rated\n",
    "\n",
    "            list_loss.append(loss.item())\n",
    "\n",
    "\n",
    "    avg_loss = total_weighted_loss / total_rated\n",
    "\n",
    "\n",
    "    total_squared_error = 0.0\n",
    "    for r_true, r_pred in zip(truth, predict):\n",
    "        mask = torch.sign(r_true)\n",
    "        total_squared_error += ((r_true - r_pred) ** 2 * mask).sum().item()\n",
    "    rmse = np.sqrt(total_squared_error / total_rated)\n",
    "    \n",
    "    total_time = round(time.perf_counter() - start_time, 4)\n",
    "    print(f\"Eval done | Avg loss: {avg_loss:.4f} | RMSE: {rmse:.6f} | Time: {total_time:.2f}s\")\n",
    "\n",
    "    return avg_loss, rmse\n"
   ]
  },
  {
   "cell_type": "markdown",
   "id": "7849f11b-f6e6-4d0a-8cff-f61245b975ff",
   "metadata": {},
   "source": [
    "# **Training**"
   ]
  },
  {
   "cell_type": "code",
   "execution_count": 31,
   "id": "4b7102a0-1237-437b-8c99-7742ef5688f5",
   "metadata": {},
   "outputs": [],
   "source": [
    "model = AutoRec(d=num_items, k=500, dropout=0.1).to(device)\n",
    "opt = torch.optim.Adam(model.parameters(), lr=0.001, weight_decay=1e-5)\n",
    "criterion = nn.MSELoss()\n",
    "max_epochs = 50\n",
    "losses = []\n",
    "val_losses = []\n",
    "val_rmse = []"
   ]
  },
  {
   "cell_type": "code",
   "execution_count": 32,
   "id": "6a34b404-9e27-490f-871e-b19bec5688e6",
   "metadata": {},
   "outputs": [
    {
     "name": "stdout",
     "output_type": "stream",
     "text": [
      "==========Epoch: 0==========\n",
      "Train done — Avg epoch loss: 0.1806 | Total time: 3.56s\n",
      "Eval done | Avg loss: 0.0683 | RMSE: 1.237919 | Time: 0.47s\n",
      "==========Epoch: 1==========\n",
      "Train done — Avg epoch loss: 0.0498 | Total time: 3.20s\n",
      "Eval done | Avg loss: 0.0465 | RMSE: 1.022936 | Time: 0.84s\n",
      "==========Epoch: 2==========\n",
      "Train done — Avg epoch loss: 0.0435 | Total time: 3.61s\n",
      "Eval done | Avg loss: 0.0450 | RMSE: 1.006738 | Time: 0.49s\n",
      "==========Epoch: 3==========\n",
      "Train done — Avg epoch loss: 0.0427 | Total time: 3.63s\n",
      "Eval done | Avg loss: 0.0448 | RMSE: 1.003755 | Time: 0.62s\n",
      "==========Epoch: 4==========\n",
      "Train done — Avg epoch loss: 0.0423 | Total time: 3.72s\n",
      "Eval done | Avg loss: 0.0447 | RMSE: 1.003506 | Time: 0.55s\n",
      "==========Epoch: 5==========\n",
      "Train done — Avg epoch loss: 0.0423 | Total time: 2.99s\n",
      "Eval done | Avg loss: 0.0446 | RMSE: 1.002059 | Time: 0.36s\n",
      "==========Epoch: 6==========\n",
      "Train done — Avg epoch loss: 0.0415 | Total time: 3.69s\n",
      "Eval done | Avg loss: 0.0442 | RMSE: 0.997126 | Time: 0.92s\n",
      "==========Epoch: 7==========\n",
      "Train done — Avg epoch loss: 0.0409 | Total time: 3.51s\n",
      "Eval done | Avg loss: 0.0438 | RMSE: 0.993059 | Time: 0.43s\n",
      "==========Epoch: 8==========\n",
      "Train done — Avg epoch loss: 0.0406 | Total time: 2.98s\n",
      "Eval done | Avg loss: 0.0435 | RMSE: 0.989216 | Time: 0.67s\n",
      "==========Epoch: 9==========\n",
      "Train done — Avg epoch loss: 0.0402 | Total time: 4.43s\n",
      "Eval done | Avg loss: 0.0436 | RMSE: 0.990136 | Time: 0.30s\n",
      "==========Epoch: 10==========\n",
      "Train done — Avg epoch loss: 0.0400 | Total time: 3.12s\n",
      "Eval done | Avg loss: 0.0434 | RMSE: 0.988451 | Time: 0.48s\n",
      "==========Epoch: 11==========\n",
      "Train done — Avg epoch loss: 0.0393 | Total time: 12.36s\n",
      "Eval done | Avg loss: 0.0433 | RMSE: 0.986902 | Time: 0.40s\n",
      "==========Epoch: 12==========\n",
      "Train done — Avg epoch loss: 0.0385 | Total time: 5.25s\n",
      "Eval done | Avg loss: 0.0428 | RMSE: 0.980642 | Time: 0.51s\n",
      "==========Epoch: 13==========\n",
      "Train done — Avg epoch loss: 0.0384 | Total time: 3.82s\n",
      "Eval done | Avg loss: 0.0428 | RMSE: 0.981133 | Time: 0.35s\n",
      "==========Epoch: 14==========\n",
      "Train done — Avg epoch loss: 0.0376 | Total time: 3.48s\n",
      "Eval done | Avg loss: 0.0427 | RMSE: 0.980229 | Time: 0.50s\n",
      "==========Epoch: 15==========\n",
      "Train done — Avg epoch loss: 0.0373 | Total time: 3.07s\n",
      "Eval done | Avg loss: 0.0428 | RMSE: 0.981243 | Time: 0.63s\n",
      "==========Epoch: 16==========\n",
      "Train done — Avg epoch loss: 0.0366 | Total time: 4.75s\n",
      "Eval done | Avg loss: 0.0425 | RMSE: 0.977911 | Time: 0.35s\n",
      "==========Epoch: 17==========\n",
      "Train done — Avg epoch loss: 0.0361 | Total time: 4.02s\n",
      "Eval done | Avg loss: 0.0422 | RMSE: 0.974123 | Time: 0.42s\n",
      "==========Epoch: 18==========\n",
      "Train done — Avg epoch loss: 0.0360 | Total time: 3.31s\n",
      "Eval done | Avg loss: 0.0425 | RMSE: 0.977275 | Time: 0.38s\n",
      "==========Epoch: 19==========\n",
      "Train done — Avg epoch loss: 0.0353 | Total time: 4.00s\n",
      "Eval done | Avg loss: 0.0420 | RMSE: 0.971627 | Time: 0.45s\n",
      "==========Epoch: 20==========\n",
      "Train done — Avg epoch loss: 0.0351 | Total time: 4.13s\n",
      "Eval done | Avg loss: 0.0420 | RMSE: 0.971186 | Time: 0.48s\n",
      "==========Epoch: 21==========\n",
      "Train done — Avg epoch loss: 0.0348 | Total time: 3.04s\n",
      "Eval done | Avg loss: 0.0421 | RMSE: 0.972716 | Time: 0.56s\n",
      "==========Epoch: 22==========\n",
      "Train done — Avg epoch loss: 0.0342 | Total time: 3.61s\n",
      "Eval done | Avg loss: 0.0418 | RMSE: 0.969862 | Time: 0.64s\n",
      "==========Epoch: 23==========\n",
      "Train done — Avg epoch loss: 0.0336 | Total time: 3.55s\n",
      "Eval done | Avg loss: 0.0418 | RMSE: 0.969608 | Time: 0.67s\n",
      "==========Epoch: 24==========\n",
      "Train done — Avg epoch loss: 0.0332 | Total time: 3.86s\n",
      "Eval done | Avg loss: 0.0417 | RMSE: 0.969094 | Time: 0.42s\n",
      "==========Epoch: 25==========\n",
      "Train done — Avg epoch loss: 0.0329 | Total time: 3.20s\n",
      "Eval done | Avg loss: 0.0416 | RMSE: 0.967466 | Time: 0.41s\n",
      "==========Epoch: 26==========\n",
      "Train done — Avg epoch loss: 0.0328 | Total time: 4.35s\n",
      "Eval done | Avg loss: 0.0415 | RMSE: 0.966327 | Time: 0.55s\n",
      "==========Epoch: 27==========\n",
      "Train done — Avg epoch loss: 0.0326 | Total time: 3.50s\n",
      "Eval done | Avg loss: 0.0415 | RMSE: 0.965889 | Time: 0.34s\n",
      "==========Epoch: 28==========\n",
      "Train done — Avg epoch loss: 0.0320 | Total time: 3.81s\n",
      "Eval done | Avg loss: 0.0420 | RMSE: 0.972842 | Time: 0.41s\n",
      "==========Epoch: 29==========\n",
      "Train done — Avg epoch loss: 0.0316 | Total time: 4.36s\n",
      "Eval done | Avg loss: 0.0415 | RMSE: 0.966633 | Time: 0.34s\n",
      "==========Epoch: 30==========\n",
      "Train done — Avg epoch loss: 0.0313 | Total time: 5.20s\n",
      "Eval done | Avg loss: 0.0414 | RMSE: 0.964754 | Time: 0.47s\n",
      "==========Epoch: 31==========\n",
      "Train done — Avg epoch loss: 0.0308 | Total time: 4.50s\n",
      "Eval done | Avg loss: 0.0412 | RMSE: 0.962660 | Time: 0.39s\n",
      "==========Epoch: 32==========\n",
      "Train done — Avg epoch loss: 0.0305 | Total time: 2.76s\n",
      "Eval done | Avg loss: 0.0414 | RMSE: 0.964722 | Time: 0.48s\n",
      "==========Epoch: 33==========\n",
      "Train done — Avg epoch loss: 0.0304 | Total time: 5.60s\n",
      "Eval done | Avg loss: 0.0408 | RMSE: 0.957396 | Time: 0.42s\n",
      "==========Epoch: 34==========\n",
      "Train done — Avg epoch loss: 0.0299 | Total time: 5.10s\n",
      "Eval done | Avg loss: 0.0410 | RMSE: 0.961248 | Time: 0.44s\n",
      "==========Epoch: 35==========\n",
      "Train done — Avg epoch loss: 0.0296 | Total time: 4.07s\n",
      "Eval done | Avg loss: 0.0406 | RMSE: 0.956108 | Time: 0.42s\n",
      "==========Epoch: 36==========\n",
      "Train done — Avg epoch loss: 0.0293 | Total time: 3.68s\n",
      "Eval done | Avg loss: 0.0407 | RMSE: 0.956741 | Time: 0.58s\n",
      "==========Epoch: 37==========\n",
      "Train done — Avg epoch loss: 0.0290 | Total time: 4.18s\n",
      "Eval done | Avg loss: 0.0407 | RMSE: 0.956724 | Time: 0.39s\n",
      "==========Epoch: 38==========\n",
      "Train done — Avg epoch loss: 0.0288 | Total time: 3.30s\n",
      "Eval done | Avg loss: 0.0413 | RMSE: 0.963866 | Time: 0.45s\n",
      "==========Epoch: 39==========\n",
      "Train done — Avg epoch loss: 0.0284 | Total time: 4.88s\n",
      "Eval done | Avg loss: 0.0409 | RMSE: 0.959662 | Time: 0.35s\n",
      "==========Epoch: 40==========\n",
      "Train done — Avg epoch loss: 0.0281 | Total time: 2.67s\n",
      "Eval done | Avg loss: 0.0404 | RMSE: 0.953393 | Time: 0.63s\n",
      "==========Epoch: 41==========\n",
      "Train done — Avg epoch loss: 0.0278 | Total time: 3.67s\n",
      "Eval done | Avg loss: 0.0405 | RMSE: 0.954657 | Time: 0.35s\n",
      "==========Epoch: 42==========\n",
      "Train done — Avg epoch loss: 0.0275 | Total time: 4.75s\n",
      "Eval done | Avg loss: 0.0408 | RMSE: 0.958332 | Time: 0.65s\n",
      "==========Epoch: 43==========\n",
      "Train done — Avg epoch loss: 0.0274 | Total time: 3.79s\n",
      "Eval done | Avg loss: 0.0403 | RMSE: 0.953038 | Time: 0.35s\n",
      "==========Epoch: 44==========\n",
      "Train done — Avg epoch loss: 0.0271 | Total time: 3.34s\n",
      "Eval done | Avg loss: 0.0401 | RMSE: 0.950129 | Time: 0.45s\n",
      "==========Epoch: 45==========\n",
      "Train done — Avg epoch loss: 0.0269 | Total time: 3.99s\n",
      "Eval done | Avg loss: 0.0404 | RMSE: 0.954275 | Time: 0.46s\n",
      "==========Epoch: 46==========\n",
      "Train done — Avg epoch loss: 0.0265 | Total time: 5.33s\n",
      "Eval done | Avg loss: 0.0403 | RMSE: 0.952445 | Time: 0.34s\n",
      "==========Epoch: 47==========\n",
      "Train done — Avg epoch loss: 0.0262 | Total time: 5.32s\n",
      "Eval done | Avg loss: 0.0403 | RMSE: 0.952002 | Time: 0.30s\n",
      "==========Epoch: 48==========\n",
      "Train done — Avg epoch loss: 0.0260 | Total time: 3.60s\n",
      "Eval done | Avg loss: 0.0400 | RMSE: 0.948763 | Time: 0.52s\n",
      "==========Epoch: 49==========\n",
      "Train done — Avg epoch loss: 0.0257 | Total time: 3.09s\n",
      "Eval done | Avg loss: 0.0407 | RMSE: 0.957386 | Time: 0.35s\n"
     ]
    }
   ],
   "source": [
    "for epoch in range(max_epochs):\n",
    "    print(\"=\" * 10 + f\"Epoch: {epoch}\" + \"=\" * 10)\n",
    "    epoch_loss = train_epoch(model, train_dl, opt, criterion, device)\n",
    "    val_loss, rmse = eval_epoch(model, val_dl, criterion, device)\n",
    "    losses.append(epoch_loss)\n",
    "    val_losses.append(val_loss)\n",
    "    val_rmse.append(rmse)"
   ]
  },
  {
   "cell_type": "code",
   "execution_count": 33,
   "id": "851bbfc5-3fa9-43ef-81dd-48b6026904f1",
   "metadata": {},
   "outputs": [
    {
     "data": {
      "image/png": "[encoded data removed]",
      "text/plain": [
       "<Figure size 640x480 with 1 Axes>"
      ]
     },
     "metadata": {},
     "output_type": "display_data"
    }
   ],
   "source": [
    "# plt.plot(losses)\n",
    "# plt.plot(val_losses)\n",
    "plt.plot(val_rmse)\n",
    "plt.title(\"RMSE of validation set over Epochs\")\n",
    "plt.show()"
   ]
  },
  {
   "cell_type": "code",
   "execution_count": 34,
   "id": "77cd5ae8-b842-4616-8b67-e7598126bd99",
   "metadata": {
    "tags": []
   },
   "outputs": [
    {
     "name": "stdout",
     "output_type": "stream",
     "text": [
      "Eval done | Avg loss: 0.0356 | RMSE: 0.942384 | Time: 0.41s\n",
      "Test rmse on autoencoders = 0.9423838459767898\n"
     ]
    }
   ],
   "source": [
    "val_loss, rmse = eval_epoch(model, test_dl, criterion, device)\n",
    "print(f'Test rmse on autoencoders = {rmse}')"
   ]
  },
  {
   "cell_type": "code",
   "execution_count": 35,
   "id": "d4239a7a-4a47-49f2-a7f7-adf61b9471ac",
   "metadata": {},
   "outputs": [],
   "source": [
    "torch.save(model.state_dict(), 'autorec_model.pth')"
   ]
  },
  {
   "cell_type": "markdown",
   "id": "c3c5e3b6-33ff-4c29-871c-e661ab2e9302",
   "metadata": {},
   "source": [
    "# **Combining Autoencoders with users' features**"
   ]
  },
  {
   "cell_type": "code",
   "execution_count": 36,
   "id": "8ed9532c-b683-4c5a-885d-e41a01e2274c",
   "metadata": {
    "tags": []
   },
   "outputs": [
    {
     "data": {
      "text/plain": [
       "torch.Size([4892, 3952])"
      ]
     },
     "execution_count": 36,
     "metadata": {},
     "output_type": "execute_result"
    }
   ],
   "source": [
    "def get_predicted_ratings(model, user_indices, device):\n",
    "    model.eval()\n",
    "    preds = []\n",
    "    dataset = MyDataset(user_item_mat, user_indices)\n",
    "    dl = DataLoader(dataset, batch_size=batch_size, shuffle=False, num_workers=num_workers)\n",
    "    with torch.no_grad():\n",
    "        for r in dl:\n",
    "            r = r.to(device)\n",
    "            pred = model(r)\n",
    "            preds.append(pred.cpu())\n",
    "    return torch.cat(preds, dim=0)  \n",
    "train_predicted_ratings = get_predicted_ratings(model, train_users, device)\n",
    "train_predicted_ratings.shape"
   ]
  },
  {
   "cell_type": "code",
   "execution_count": 37,
   "id": "81da9234-751c-48e8-8f7c-cf5e18c3c8d1",
   "metadata": {
    "tags": []
   },
   "outputs": [
    {
     "data": {
      "text/html": [
       "<div>\n",
       "<style scoped>\n",
       "    .dataframe tbody tr th:only-of-type {\n",
       "        vertical-align: middle;\n",
       "    }\n",
       "\n",
       "    .dataframe tbody tr th {\n",
       "        vertical-align: top;\n",
       "    }\n",
       "\n",
       "    .dataframe thead th {\n",
       "        text-align: right;\n",
       "    }\n",
       "</style>\n",
       "<table border=\"1\" class=\"dataframe\">\n",
       "  <thead>\n",
       "    <tr style=\"text-align: right;\">\n",
       "      <th></th>\n",
       "      <th>gender</th>\n",
       "      <th>age</th>\n",
       "      <th>occupation</th>\n",
       "    </tr>\n",
       "  </thead>\n",
       "  <tbody>\n",
       "    <tr>\n",
       "      <th>0</th>\n",
       "      <td>1.0</td>\n",
       "      <td>0.333333</td>\n",
       "      <td>0.20</td>\n",
       "    </tr>\n",
       "    <tr>\n",
       "      <th>1</th>\n",
       "      <td>1.0</td>\n",
       "      <td>0.166667</td>\n",
       "      <td>0.05</td>\n",
       "    </tr>\n",
       "    <tr>\n",
       "      <th>2</th>\n",
       "      <td>1.0</td>\n",
       "      <td>0.166667</td>\n",
       "      <td>0.20</td>\n",
       "    </tr>\n",
       "    <tr>\n",
       "      <th>3</th>\n",
       "      <td>1.0</td>\n",
       "      <td>0.333333</td>\n",
       "      <td>0.00</td>\n",
       "    </tr>\n",
       "    <tr>\n",
       "      <th>4</th>\n",
       "      <td>1.0</td>\n",
       "      <td>0.666667</td>\n",
       "      <td>0.80</td>\n",
       "    </tr>\n",
       "    <tr>\n",
       "      <th>...</th>\n",
       "      <td>...</td>\n",
       "      <td>...</td>\n",
       "      <td>...</td>\n",
       "    </tr>\n",
       "    <tr>\n",
       "      <th>508</th>\n",
       "      <td>0.0</td>\n",
       "      <td>0.666667</td>\n",
       "      <td>0.35</td>\n",
       "    </tr>\n",
       "    <tr>\n",
       "      <th>517</th>\n",
       "      <td>1.0</td>\n",
       "      <td>1.000000</td>\n",
       "      <td>0.55</td>\n",
       "    </tr>\n",
       "    <tr>\n",
       "      <th>528</th>\n",
       "      <td>0.0</td>\n",
       "      <td>0.833333</td>\n",
       "      <td>0.35</td>\n",
       "    </tr>\n",
       "    <tr>\n",
       "      <th>539</th>\n",
       "      <td>1.0</td>\n",
       "      <td>1.000000</td>\n",
       "      <td>1.00</td>\n",
       "    </tr>\n",
       "    <tr>\n",
       "      <th>540</th>\n",
       "      <td>1.0</td>\n",
       "      <td>0.333333</td>\n",
       "      <td>0.25</td>\n",
       "    </tr>\n",
       "  </tbody>\n",
       "</table>\n",
       "<p>149 rows × 3 columns</p>\n",
       "</div>"
      ],
      "text/plain": [
       "     gender       age  occupation\n",
       "0       1.0  0.333333        0.20\n",
       "1       1.0  0.166667        0.05\n",
       "2       1.0  0.166667        0.20\n",
       "3       1.0  0.333333        0.00\n",
       "4       1.0  0.666667        0.80\n",
       "..      ...       ...         ...\n",
       "508     0.0  0.666667        0.35\n",
       "517     1.0  1.000000        0.55\n",
       "528     0.0  0.833333        0.35\n",
       "539     1.0  1.000000        1.00\n",
       "540     1.0  0.333333        0.25\n",
       "\n",
       "[149 rows x 3 columns]"
      ]
     },
     "execution_count": 37,
     "metadata": {},
     "output_type": "execute_result"
    }
   ],
   "source": [
    "def get_features_df(users_df, users_indices):\n",
    "    users_list = [int(i) for i in users_indices]\n",
    "    filtered_users_df = users_df[users_df['user_id'].isin(users_list)]\n",
    "    users_features_df = filtered_users_df.set_index('user_id').loc[users_list].reset_index()\n",
    "    users_features_df = users_features_df.drop('user_id',axis = 1)\n",
    "    \n",
    "    return users_features_df\n",
    "\n",
    "val_users_features_df = get_features_df(users_encoded_df, val_users)\n",
    "new = val_users_features_df.drop_duplicates()\n",
    "new"
   ]
  },
  {
   "cell_type": "code",
   "execution_count": 38,
   "id": "94e5efa1-537c-42d9-b6d8-d10e83286300",
   "metadata": {
    "tags": []
   },
   "outputs": [
    {
     "data": {
      "text/plain": [
       "tensor([[0., 0., 0.,  ..., 0., 0., 0.],\n",
       "        [4., 0., 0.,  ..., 0., 0., 0.],\n",
       "        [0., 0., 0.,  ..., 0., 0., 0.],\n",
       "        ...,\n",
       "        [0., 0., 0.,  ..., 0., 0., 0.],\n",
       "        [0., 0., 0.,  ..., 0., 0., 0.],\n",
       "        [5., 1., 0.,  ..., 0., 0., 4.]])"
      ]
     },
     "execution_count": 38,
     "metadata": {},
     "output_type": "execute_result"
    }
   ],
   "source": [
    "val_truth_ratings_tensor = torch.zeros((len(val_users),num_items))\n",
    "val_users_list = [int(r) for r in val_users]\n",
    "for i, r in enumerate(val_users_list):\n",
    "    val_truth_ratings_tensor[i] = user_item_mat[r]\n",
    "    \n",
    "val_users_features_tensor = torch.tensor(val_users_features_df.values, dtype=torch.float32)\n",
    "val_truth_ratings_tensor"
   ]
  },
  {
   "cell_type": "code",
   "execution_count": 39,
   "id": "232de7f9-3bc3-4503-9ba6-55e330366f92",
   "metadata": {
    "tags": []
   },
   "outputs": [],
   "source": [
    "class UserFeaturesDataset(Dataset):\n",
    "    def __init__(self, user_features, true_ratings):\n",
    "        self.user_features = user_features\n",
    "        self.true_ratings = true_ratings\n",
    "\n",
    "    def __len__(self):\n",
    "        return self.user_features.size(0)\n",
    "\n",
    "    def __getitem__(self, idx):\n",
    "        return {\n",
    "            'features': self.user_features[idx],\n",
    "            'ratings': self.true_ratings[idx],\n",
    "        }\n",
    "    \n",
    "batch_size = 64  \n",
    "\n",
    "dataset = UserFeaturesDataset(val_users_features_tensor, val_truth_ratings_tensor)\n",
    "val_loader = DataLoader(dataset, batch_size=batch_size, shuffle=True)"
   ]
  },
  {
   "cell_type": "code",
   "execution_count": 40,
   "id": "9dc21d16-ea4f-4722-8e30-e8eeb04f8e91",
   "metadata": {},
   "outputs": [],
   "source": [
    "class UserFeaturesNet(nn.Module):\n",
    "    def __init__(self, input_dim, hidden_dim, num_train_users):\n",
    "        super().__init__()\n",
    "        self.net = nn.Sequential(\n",
    "            nn.Linear(input_dim, hidden_dim),\n",
    "            nn.ReLU(),\n",
    "            nn.Linear(hidden_dim, num_train_users) \n",
    "        )\n",
    "\n",
    "    def forward(self, x):\n",
    "        weights = self.net(x)  \n",
    "        weights = F.softmax(weights, dim=1)  \n",
    "        return weights"
   ]
  },
  {
   "cell_type": "code",
   "execution_count": 41,
   "id": "87869cf8-ed05-473c-bb7e-56ab9690f690",
   "metadata": {},
   "outputs": [
    {
     "name": "stdout",
     "output_type": "stream",
     "text": [
      "Epoch 1/50 - Avg Masked MSE: 1.0799\n",
      "Epoch 2/50 - Avg Masked MSE: 1.0703\n",
      "Epoch 3/50 - Avg Masked MSE: 1.0610\n",
      "Epoch 4/50 - Avg Masked MSE: 1.0520\n",
      "Epoch 5/50 - Avg Masked MSE: 1.0428\n",
      "Epoch 6/50 - Avg Masked MSE: 1.0341\n",
      "Epoch 7/50 - Avg Masked MSE: 1.0265\n",
      "Epoch 8/50 - Avg Masked MSE: 1.0201\n",
      "Epoch 9/50 - Avg Masked MSE: 1.0142\n",
      "Epoch 10/50 - Avg Masked MSE: 1.0101\n",
      "Epoch 11/50 - Avg Masked MSE: 1.0069\n",
      "Epoch 12/50 - Avg Masked MSE: 1.0041\n",
      "Epoch 13/50 - Avg Masked MSE: 1.0024\n",
      "Epoch 14/50 - Avg Masked MSE: 1.0017\n",
      "Epoch 15/50 - Avg Masked MSE: 1.0008\n",
      "Epoch 16/50 - Avg Masked MSE: 1.0003\n",
      "Epoch 17/50 - Avg Masked MSE: 0.9996\n",
      "Epoch 18/50 - Avg Masked MSE: 0.9991\n",
      "Epoch 19/50 - Avg Masked MSE: 0.9986\n",
      "Epoch 20/50 - Avg Masked MSE: 0.9981\n",
      "Epoch 21/50 - Avg Masked MSE: 0.9977\n",
      "Epoch 22/50 - Avg Masked MSE: 0.9971\n",
      "Epoch 23/50 - Avg Masked MSE: 0.9969\n",
      "Epoch 24/50 - Avg Masked MSE: 0.9959\n",
      "Epoch 25/50 - Avg Masked MSE: 0.9954\n",
      "Epoch 26/50 - Avg Masked MSE: 0.9948\n",
      "Epoch 27/50 - Avg Masked MSE: 0.9942\n",
      "Epoch 28/50 - Avg Masked MSE: 0.9935\n",
      "Epoch 29/50 - Avg Masked MSE: 0.9930\n",
      "Epoch 30/50 - Avg Masked MSE: 0.9925\n",
      "Epoch 31/50 - Avg Masked MSE: 0.9920\n",
      "Epoch 32/50 - Avg Masked MSE: 0.9915\n",
      "Epoch 33/50 - Avg Masked MSE: 0.9910\n",
      "Epoch 34/50 - Avg Masked MSE: 0.9906\n",
      "Epoch 35/50 - Avg Masked MSE: 0.9903\n",
      "Epoch 36/50 - Avg Masked MSE: 0.9900\n",
      "Epoch 37/50 - Avg Masked MSE: 0.9896\n",
      "Epoch 38/50 - Avg Masked MSE: 0.9894\n",
      "Epoch 39/50 - Avg Masked MSE: 0.9892\n",
      "Epoch 40/50 - Avg Masked MSE: 0.9892\n",
      "Epoch 41/50 - Avg Masked MSE: 0.9887\n",
      "Epoch 42/50 - Avg Masked MSE: 0.9885\n",
      "Epoch 43/50 - Avg Masked MSE: 0.9884\n",
      "Epoch 44/50 - Avg Masked MSE: 0.9883\n",
      "Epoch 45/50 - Avg Masked MSE: 0.9882\n",
      "Epoch 46/50 - Avg Masked MSE: 0.9880\n",
      "Epoch 47/50 - Avg Masked MSE: 0.9879\n",
      "Epoch 48/50 - Avg Masked MSE: 0.9877\n",
      "Epoch 49/50 - Avg Masked MSE: 0.9875\n",
      "Epoch 50/50 - Avg Masked MSE: 0.9873\n"
     ]
    }
   ],
   "source": [
    "features_model = UserFeaturesNet(input_dim=3, hidden_dim=64, num_train_users=len(train_users))\n",
    "optimizer = torch.optim.Adam(features_model.parameters(), lr=1e-3)\n",
    "\n",
    "epochs = 50\n",
    "for epoch in range(epochs):\n",
    "    features_model.train()\n",
    "    total_loss = 0.0\n",
    "    total_rated = 0\n",
    "    for batch in val_loader:\n",
    "        features = batch['features']                \n",
    "        r = batch['ratings']            \n",
    "        mask = torch.sign(r)                        \n",
    "\n",
    "        weights = features_model(features)         \n",
    "        r_hat = torch.matmul(weights, train_predicted_ratings)  \n",
    "\n",
    "        diff = (r_hat - r) * mask\n",
    "        loss = torch.sum(diff ** 2) / torch.sum(mask)\n",
    "\n",
    "        optimizer.zero_grad()\n",
    "        loss.backward()\n",
    "        optimizer.step()\n",
    "    \n",
    "        num_rated = mask.sum().item()\n",
    "        total_loss += loss.item() * num_rated\n",
    "        total_rated += num_rated\n",
    "    print(f\"Epoch {epoch + 1}/{epochs} - Avg Masked MSE: {total_loss / total_rated :.4f}\")"
   ]
  },
  {
   "cell_type": "code",
   "execution_count": 47,
   "id": "6aa172d9-fce8-4a90-8fa2-af8e63a5bf1f",
   "metadata": {
    "tags": []
   },
   "outputs": [],
   "source": [
    "torch.save(features_model.state_dict(), 'features_net.pth')"
   ]
  },
  {
   "cell_type": "markdown",
   "id": "89a4a584-9028-4db4-9334-9c315ddef842",
   "metadata": {},
   "source": [
    "# **Apply on test set**`"
   ]
  },
  {
   "cell_type": "code",
   "execution_count": 42,
   "id": "0ea63d23-84ca-472f-8361-f36add77712b",
   "metadata": {
    "tags": []
   },
   "outputs": [
    {
     "name": "stdout",
     "output_type": "stream",
     "text": [
      "Test RMSE using Features Net: 0.97539605\n"
     ]
    }
   ],
   "source": [
    "test_truth_ratings_tensor = torch.zeros((len(test_users),num_items))\n",
    "test_users_list = [int(r) for r in test_users]\n",
    "for i, r in enumerate(test_users_list):\n",
    "    test_truth_ratings_tensor[i] = user_item_mat[r]\n",
    "\n",
    "test_users_features_df = get_features_df(users_encoded_df, test_users)\n",
    "test_users_features_tensor = torch.tensor(test_users_features_df.values, dtype=torch.float32)\n",
    "dataset = UserFeaturesDataset(test_users_features_tensor, test_truth_ratings_tensor)\n",
    "test_loader = DataLoader(dataset, batch_size=batch_size, shuffle=False)\n",
    "\n",
    "features_model.eval()\n",
    "eval_loss = 0.0\n",
    "total_rated = 0\n",
    "batch_preds = []\n",
    "with torch.no_grad():\n",
    "    for batch in test_loader:\n",
    "        features = batch['features']\n",
    "        r = batch['ratings']\n",
    "        mask = torch.sign(r)\n",
    "\n",
    "        weights = features_model(features)\n",
    "        r_hat = torch.matmul(weights, train_predicted_ratings)\n",
    "\n",
    "        diff = (r_hat - r) * mask\n",
    "        loss = torch.sum(diff ** 2) / torch.sum(mask)\n",
    "        \n",
    "        num_rated = mask.sum().item()\n",
    "        eval_loss += loss.item() * num_rated\n",
    "        total_rated += num_rated\n",
    "        \n",
    "        batch_preds.append(r_hat)\n",
    "\n",
    "print(f\"Test RMSE using Features Net: {np.sqrt(eval_loss / total_rated) :.8f}\")"
   ]
  },
  {
   "cell_type": "code",
   "execution_count": 43,
   "id": "dbc7f8eb-53ad-4799-b005-77ca3b26baf8",
   "metadata": {
    "tags": []
   },
   "outputs": [
    {
     "name": "stdout",
     "output_type": "stream",
     "text": [
      "Top 20 Movies Recommended for user 0 :\n",
      "1. 24 7: Twenty Four Seven (1997)\n",
      "2. Illtown (1996)\n",
      "3. Dry Cleaning (Nettoyage à sec) (1997)\n",
      "4. Stranger, The (1994)\n",
      "5. Cabinet of Dr. Ramirez, The (1991)\n",
      "6. Kagemusha (1980)\n",
      "7. Shall We Dance? (1937)\n",
      "8. Dersu Uzala (1974)\n",
      "9. For All Mankind (1989)\n",
      "10. Shadow of a Doubt (1943)\n",
      "11. Sunset Blvd. (a.k.a. Sunset Boulevard) (1950)\n",
      "12. Sanjuro (1962)\n",
      "13. Wrong Trousers, The (1993)\n",
      "14. Inherit the Wind (1960)\n",
      "15. Close Shave, A (1995)\n",
      "16. Seven Samurai (The Magnificent Seven) (Shichinin no samurai) (1954)\n",
      "17. Stranger in the House (1997)\n",
      "18. 12 Angry Men (1957)\n",
      "19. Shawshank Redemption, The (1994)\n",
      "20. Lamerica (1994)\n"
     ]
    }
   ],
   "source": [
    "preds = torch.cat(batch_preds, dim = 0)\n",
    "sample_user = 0\n",
    "topk_values, topk_indices = preds[sample_user].topk(20)\n",
    "topk_item_id = [int(k) for k in topk_indices]\n",
    "print(f'Top 20 Movies Recommended for user {sample_user} :')\n",
    "for idx, item_id in enumerate(topk_item_id):\n",
    "    title = items_df.loc[items_df['item_id'] == item_id, 'title'].values[0]\n",
    "    print(f\"{idx+1}. {title}\")"
   ]
  },
  {
   "cell_type": "code",
   "execution_count": 44,
   "id": "eeaf3986-3eb8-48c1-b850-6a7a04b0c731",
   "metadata": {
    "tags": []
   },
   "outputs": [
    {
     "data": {
      "text/plain": [
       "torch.Size([604, 3952])"
      ]
     },
     "execution_count": 44,
     "metadata": {},
     "output_type": "execute_result"
    }
   ],
   "source": [
    "preds.shape"
   ]
  },
  {
   "cell_type": "code",
   "execution_count": 45,
   "id": "98ddef1c-5f45-4214-8461-5223faedee8a",
   "metadata": {
    "tags": []
   },
   "outputs": [],
   "source": [
    "def ndcg_at_k(predicted_indices, ground_truth_ratings_tensor, k=20):\n",
    "    def dcg(relevance_scores):\n",
    "        return np.sum([rel / np.log2(idx + 2) for idx, rel in enumerate(relevance_scores)])\n",
    "\n",
    "    ground_truth_ratings = ground_truth_ratings_tensor.cpu().numpy()\n",
    "    top_k_indices = [int(i) for i in predicted_indices[:k]]\n",
    "    relevance = [ground_truth_ratings[i] for i in top_k_indices]\n",
    "\n",
    "    dcg_score = dcg(relevance)\n",
    "    ideal_relevance = sorted(relevance, reverse=True)\n",
    "    idcg_score = dcg(ideal_relevance)\n",
    "\n",
    "    if idcg_score == 0:\n",
    "        return 0.0\n",
    "    return dcg_score / idcg_score\n",
    "\n",
    "def mean_ndcg_at_k(test_users_list, all_preds, ground_truth_tensor, k=20):\n",
    "    total_ndcg = 0.0\n",
    "    num_users = len(test_users_list)\n",
    "\n",
    "    for i, user_idx in enumerate(test_users_list):\n",
    "        predicted_indices = all_preds[i]  # i là thứ tự trong test set\n",
    "        ground_truth_ratings_tensor = ground_truth_tensor[i]  # tương ứng row i trong tensor\n",
    "        ndcg_score = ndcg_at_k(predicted_indices, ground_truth_ratings_tensor, k)\n",
    "        total_ndcg += ndcg_score\n",
    "\n",
    "    return total_ndcg / num_users\n"
   ]
  },
  {
   "cell_type": "code",
   "execution_count": 46,
   "id": "c67459fe-a280-46d9-9ce6-c391da6d806b",
   "metadata": {
    "tags": []
   },
   "outputs": [
    {
     "name": "stdout",
     "output_type": "stream",
     "text": [
      "Mean nDCG@20: 0.2173\n"
     ]
    }
   ],
   "source": [
    "_, topk_indices = torch.topk(preds, k=preds.shape[1], dim=1)  # lấy toàn bộ thứ tự item\n",
    "\n",
    "# sorted indices of top k\n",
    "all_preds_indices = topk_indices.cpu().tolist()\n",
    "\n",
    "mean_ndcg = mean_ndcg_at_k(test_users_list, all_preds_indices, test_truth_ratings_tensor, k=20)\n",
    "print(f\"Mean nDCG@20: {mean_ndcg:.4f}\")"
   ]
  }
 ],
 "metadata": {
  "kernelspec": {
   "display_name": ".conda-default:Python",
   "language": "python",
   "name": "conda-env-.conda-default-py"
  },
  "language_info": {
   "codemirror_mode": {
    "name": "ipython",
    "version": 3
   },
   "file_extension": ".py",
   "mimetype": "text/x-python",
   "name": "python",
   "nbconvert_exporter": "python",
   "pygments_lexer": "ipython3",
   "version": "3.9.19"
  }
 },
 "nbformat": 4,
 "nbformat_minor": 5
}
